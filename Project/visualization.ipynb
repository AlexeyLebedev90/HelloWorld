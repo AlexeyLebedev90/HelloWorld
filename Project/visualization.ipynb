{
 "cells": [
  {
   "cell_type": "code",
   "execution_count": 3,
   "metadata": {},
   "outputs": [],
   "source": [
    "# импорт библиотек, загрузка набора данных\n",
    "\n",
    "import numpy as np\n",
    "import os\n",
    "import sqlite3\n",
    "\n",
    "import matplotlib.pyplot as plt\n",
    "import pandas as pd\n",
    "from sklearn.feature_extraction.text import CountVectorizer\n",
    "\n",
    "from find_closest import TFIDFVac, Word2VecVac\n",
    "\n",
    "\n",
    "DB_NAME = \"descriptions2.db\"\n",
    "\n",
    "con = sqlite3.connect(DB_NAME)\n",
    "tokens_df = pd.read_sql_query(\"SELECT * FROM hh_tokens\", con)\n",
    "con.close()"
   ]
  },
  {
   "cell_type": "code",
   "execution_count": null,
   "metadata": {},
   "outputs": [],
   "source": [
    "# создание модели счётчика слов\n",
    "model = CountVectorizer(analyzer='word', stop_words='english')\n",
    "corpus = tokens_df.tokens.values\n",
    "X = model.fit_transform(corpus)"
   ]
  },
  {
   "cell_type": "code",
   "execution_count": null,
   "metadata": {},
   "outputs": [],
   "source": [
    "# подготовка результатов к удобному виду\n",
    "word_list = model.get_feature_names_out()\n",
    "\n",
    "vfunc = np.vectorize(lambda x: 1 if x>0 else 0)\n",
    "uncount_list = vfunc(X.toarray()).sum(axis=0)\n",
    "\n",
    "wcount = list(map(list, zip(word_list, uncount_list)))\n",
    "wcount.sort(reverse=True, key=lambda x: x[1])\n",
    "wcount"
   ]
  },
  {
   "cell_type": "code",
   "execution_count": null,
   "metadata": {},
   "outputs": [],
   "source": [
    "# Визуализация частоты встречаемости слов в логарифмической шкале с помощью matplotlib\n",
    "plt.hist(list(i[1] for i in wcount), bins=100, log=True)\n",
    "plt.show()"
   ]
  },
  {
   "cell_type": "code",
   "execution_count": null,
   "metadata": {},
   "outputs": [],
   "source": [
    "# Визуализация самых часто встречающихся слов с помощью matplotlib\n",
    "plt.bar(*list(zip(*wcount[:50])))\n",
    "plt.xticks(rotation=90)\n",
    "plt.gcf().set_size_inches(12, 5)\n",
    "plt.grid(True, axis='y')\n",
    "plt.show()"
   ]
  }
 ],
 "metadata": {
  "kernelspec": {
   "display_name": "Python 3",
   "language": "python",
   "name": "python3"
  },
  "language_info": {
   "codemirror_mode": {
    "name": "ipython",
    "version": 3
   },
   "file_extension": ".py",
   "mimetype": "text/x-python",
   "name": "python",
   "nbconvert_exporter": "python",
   "pygments_lexer": "ipython3",
   "version": "3.10.9"
  },
  "orig_nbformat": 4,
  "vscode": {
   "interpreter": {
    "hash": "14f7aba52fd8b0d454e4384c50566c86a06153ede604c4929b6bebae2a42d06a"
   }
  }
 },
 "nbformat": 4,
 "nbformat_minor": 2
}
