{
  "cells": [
    {
      "cell_type": "code",
      "execution_count": 2,
      "metadata": {
        "id": "ID4dvEhzc5Xl"
      },
      "outputs": [],
      "source": [
        "import numpy\n",
        "import torch\n",
        "import torch.nn as nn\n",
        "import torchvision.models as models\n",
        "from torchvision import datasets\n",
        "from torch.utils.data import DataLoader"
      ]
    },
    {
      "cell_type": "code",
      "execution_count": 3,
      "metadata": {
        "id": "jxsntIbCc5Xp",
        "outputId": "0af2e7f4-7ac5-4d89-98d4-b3bc6c976779",
        "colab": {
          "base_uri": "https://localhost:8080/",
          "height": 443,
          "referenced_widgets": [
            "5aafa063d8a5450e9de6cdad5c071627",
            "f11145e07eb6447d90fa87a74792c239",
            "5e2953d33deb42da861008d6e6c14384",
            "83aca50317fb4b41b4de3632f0613ebd",
            "faae704ac26b419f95d129a8ececc3bf",
            "d1d9a0d2fef9437fa2f53b29d95779b8",
            "4e67722f37e546569efac2aa0f1ec37b",
            "9a1d9cff7ca54d5aae62b27c84248d99",
            "50f7e168b70b478abf0275b3ce0e5845",
            "f08cc2e1eb02462dbef45a5679e2ffb5",
            "af1544b3e86f4a6683bc8527d0e268f0",
            "71b56c4caa1f49c9a8fe6abe5e88c82f",
            "9cdd957c8d8645049800b3403827da3e",
            "0a029bcb7a7c4932a7d0c1cc013d2859",
            "bfec9974fd3b49aaafa3d244a4d50ce7",
            "e1a6dcf7fae942f7a55bc97fa172a32b",
            "f25f8b5b878144c99e99cb2c566f8536",
            "9545f7bd6bcd4e54b190b86cc4618b55",
            "b575fd07bc6349438c412ff6f8c6af45",
            "80f0833c5a90451b9abc8d86eb8c7a6b",
            "9100643b6d6c438faca19fbe2a38db38",
            "5e84c194dc984690bd4c8d726d1e59e7",
            "603aade1010d4cb8bc4ac003e08c9d97",
            "eb4abf8bcb344b979b9560ad0b2fc113",
            "7f520f023cc346d48799413ea4aa9fa0",
            "506e5d18cf3444a2b618ce1eb99e7ccd",
            "86d74f8aef6446958bcacdc06c397d34",
            "96885c89339144608f21cc06deaa835b",
            "8ebac4b615a2483fab0f74714229bfa6",
            "496b5fdb47ff47fc839fdfc50037b0a6",
            "2a4c4d19e3e64063b961846a9145168b",
            "da2160ea7e74473fa0d41c6d7c0757e8",
            "0d63a131269546c5b968f8041c97638e",
            "2ba4203b626b4b0d85465b429d42f477",
            "0e3797c063b843f2badf879b30399f53",
            "017b8b8a38df4560abf8d6a1dc32b789",
            "6b869801c6f745c38a3d94ca31dcd883",
            "9e14f88b465f43978e8fd674d43c76a3",
            "38f3696f9c28494da3f9dcd0d1cc39ce",
            "746e23ef668c4104b471ea96cd5914ff",
            "bcd8a838febe4026b06d9b733103120f",
            "df9aa39fc5ef437a89aab61f98f2d94f",
            "e721235fad04455ab9a010904acabf34",
            "7ea284977dd24148b442f97824c4d170"
          ]
        }
      },
      "outputs": [
        {
          "output_type": "stream",
          "name": "stdout",
          "text": [
            "Downloading http://yann.lecun.com/exdb/mnist/train-images-idx3-ubyte.gz\n",
            "Downloading http://yann.lecun.com/exdb/mnist/train-images-idx3-ubyte.gz to ./MNIST/raw/train-images-idx3-ubyte.gz\n"
          ]
        },
        {
          "output_type": "display_data",
          "data": {
            "text/plain": [
              "  0%|          | 0/9912422 [00:00<?, ?it/s]"
            ],
            "application/vnd.jupyter.widget-view+json": {
              "version_major": 2,
              "version_minor": 0,
              "model_id": "5aafa063d8a5450e9de6cdad5c071627"
            }
          },
          "metadata": {}
        },
        {
          "output_type": "stream",
          "name": "stdout",
          "text": [
            "Extracting ./MNIST/raw/train-images-idx3-ubyte.gz to ./MNIST/raw\n",
            "\n",
            "Downloading http://yann.lecun.com/exdb/mnist/train-labels-idx1-ubyte.gz\n",
            "Downloading http://yann.lecun.com/exdb/mnist/train-labels-idx1-ubyte.gz to ./MNIST/raw/train-labels-idx1-ubyte.gz\n"
          ]
        },
        {
          "output_type": "display_data",
          "data": {
            "text/plain": [
              "  0%|          | 0/28881 [00:00<?, ?it/s]"
            ],
            "application/vnd.jupyter.widget-view+json": {
              "version_major": 2,
              "version_minor": 0,
              "model_id": "71b56c4caa1f49c9a8fe6abe5e88c82f"
            }
          },
          "metadata": {}
        },
        {
          "output_type": "stream",
          "name": "stdout",
          "text": [
            "Extracting ./MNIST/raw/train-labels-idx1-ubyte.gz to ./MNIST/raw\n",
            "\n",
            "Downloading http://yann.lecun.com/exdb/mnist/t10k-images-idx3-ubyte.gz\n",
            "Downloading http://yann.lecun.com/exdb/mnist/t10k-images-idx3-ubyte.gz to ./MNIST/raw/t10k-images-idx3-ubyte.gz\n"
          ]
        },
        {
          "output_type": "display_data",
          "data": {
            "text/plain": [
              "  0%|          | 0/1648877 [00:00<?, ?it/s]"
            ],
            "application/vnd.jupyter.widget-view+json": {
              "version_major": 2,
              "version_minor": 0,
              "model_id": "603aade1010d4cb8bc4ac003e08c9d97"
            }
          },
          "metadata": {}
        },
        {
          "output_type": "stream",
          "name": "stdout",
          "text": [
            "Extracting ./MNIST/raw/t10k-images-idx3-ubyte.gz to ./MNIST/raw\n",
            "\n",
            "Downloading http://yann.lecun.com/exdb/mnist/t10k-labels-idx1-ubyte.gz\n",
            "Downloading http://yann.lecun.com/exdb/mnist/t10k-labels-idx1-ubyte.gz to ./MNIST/raw/t10k-labels-idx1-ubyte.gz\n"
          ]
        },
        {
          "output_type": "display_data",
          "data": {
            "text/plain": [
              "  0%|          | 0/4542 [00:00<?, ?it/s]"
            ],
            "application/vnd.jupyter.widget-view+json": {
              "version_major": 2,
              "version_minor": 0,
              "model_id": "2ba4203b626b4b0d85465b429d42f477"
            }
          },
          "metadata": {}
        },
        {
          "output_type": "stream",
          "name": "stdout",
          "text": [
            "Extracting ./MNIST/raw/t10k-labels-idx1-ubyte.gz to ./MNIST/raw\n",
            "\n"
          ]
        }
      ],
      "source": [
        "dataset = datasets.MNIST('.', download=True)\n"
      ]
    },
    {
      "cell_type": "code",
      "execution_count": 4,
      "metadata": {
        "id": "HclYC-MLc5Xr",
        "outputId": "9537b863-051a-4b29-bd72-1f5b15c5b74f",
        "colab": {
          "base_uri": "https://localhost:8080/"
        }
      },
      "outputs": [
        {
          "output_type": "execute_result",
          "data": {
            "text/plain": [
              "(<PIL.Image.Image image mode=L size=28x28 at 0x7FC9E3842610>, 5)"
            ]
          },
          "metadata": {},
          "execution_count": 4
        }
      ],
      "source": [
        "dataset[0]\n"
      ]
    },
    {
      "cell_type": "code",
      "execution_count": 5,
      "metadata": {
        "id": "nTgZajGIc5Xt",
        "outputId": "7cc1ebe0-f406-4072-a478-e2914b12909e",
        "colab": {
          "base_uri": "https://localhost:8080/",
          "height": 265
        }
      },
      "outputs": [
        {
          "output_type": "display_data",
          "data": {
            "text/plain": [
              "<Figure size 432x288 with 1 Axes>"
            ],
            "image/png": "[encoded data removed]"
          },
          "metadata": {
            "needs_background": "light"
          }
        }
      ],
      "source": [
        "import matplotlib.pyplot as plt\n",
        "\n",
        "plt.imshow(dataset.data[0].detach().numpy())\n",
        "plt.show()"
      ]
    },
    {
      "cell_type": "markdown",
      "metadata": {
        "id": "YGBjt6Adc5Xu"
      },
      "source": [
        "Обучить полносвязную модель на MNIST\n"
      ]
    },
    {
      "cell_type": "code",
      "execution_count": 6,
      "metadata": {
        "id": "LrXpNdDVc5Xy"
      },
      "outputs": [],
      "source": [
        "class LinearModel(nn.Module):\n",
        "  def __init__(self, input_dim, hidden_dim, output_dim, dropout_p=0.1):\n",
        "    super().__init__()\n",
        "    self.linear1 = nn.Linear(input_dim, hidden_dim)\n",
        "    self.linear2 = nn.Linear(hidden_dim, hidden_dim)\n",
        "    self.linear3 = nn.Linear(hidden_dim, output_dim)\n",
        "    self.do1 = nn.Dropout(dropout_p)\n",
        "    self.do2 = nn.Dropout(dropout_p)\n",
        "    self.activation = nn.ReLU()\n",
        "\n",
        "  def forward(self, x):\n",
        "    x = self.do1(self.activation(self.linear1(x)))\n",
        "    x = self.do2(self.activation(self.linear2(x)))\n",
        "\n",
        "    return self.linear3(x)"
      ]
    },
    {
      "cell_type": "code",
      "execution_count": 7,
      "metadata": {
        "id": "CGddpOGOc5X0"
      },
      "outputs": [],
      "source": [
        "def collate_fn(data: list):\n",
        "  pics = []\n",
        "  target = []\n",
        "  for item in data:\n",
        "    pics.append(numpy.array(item[0]))\n",
        "    target.append(item[1])\n",
        "  pics = torch.from_numpy(numpy.array(pics)).float() / 255 # B x W x H\n",
        "  target = torch.from_numpy(numpy.array(target))\n",
        "\n",
        "  return {\n",
        "      'data': pics.view(pics.size(0), -1),\n",
        "      'target': target,\n",
        "      }"
      ]
    },
    {
      "cell_type": "code",
      "execution_count": 8,
      "metadata": {
        "id": "cnu2bhmlc5X1"
      },
      "outputs": [],
      "source": [
        "# hyperparams\n",
        "inp_dim = 28 * 28\n",
        "hidden = 256\n",
        "out_dim = 10\n",
        "device_id = -1\n",
        "device = 'cpu' if device_id == -1 else f'cuda:{device_id}'\n",
        "n_epochs = 10\n",
        "batch_size = 128"
      ]
    },
    {
      "cell_type": "code",
      "execution_count": 9,
      "metadata": {
        "id": "ziVMPL3jc5X1"
      },
      "outputs": [],
      "source": [
        "model = LinearModel(inp_dim, hidden, out_dim).to(device)\n",
        "optim = torch.optim.Adam(model.parameters())\n",
        "loss_func = nn.CrossEntropyLoss()"
      ]
    },
    {
      "cell_type": "code",
      "execution_count": 10,
      "metadata": {
        "id": "yDX0iX10c5X3",
        "outputId": "38d12e79-68ee-419f-e113-aaab4795290b",
        "colab": {
          "base_uri": "https://localhost:8080/"
        }
      },
      "outputs": [
        {
          "output_type": "stream",
          "name": "stdout",
          "text": [
            "epoch: 0, step: 0, loss: 2.3080387115478516\n",
            "epoch: 0, step: 200, loss: 0.27142202854156494\n",
            "epoch: 0, step: 400, loss: 0.16047275066375732\n",
            "epoch: 1, step: 0, loss: 0.3296003043651581\n",
            "epoch: 1, step: 200, loss: 0.13499540090560913\n",
            "epoch: 1, step: 400, loss: 0.14549976587295532\n",
            "epoch: 2, step: 0, loss: 0.0952591523528099\n",
            "epoch: 2, step: 200, loss: 0.05599898472428322\n",
            "epoch: 2, step: 400, loss: 0.052421946078538895\n",
            "epoch: 3, step: 0, loss: 0.10020409524440765\n",
            "epoch: 3, step: 200, loss: 0.09225805848836899\n",
            "epoch: 3, step: 400, loss: 0.05991232395172119\n",
            "epoch: 4, step: 0, loss: 0.026445476338267326\n",
            "epoch: 4, step: 200, loss: 0.036446042358875275\n",
            "epoch: 4, step: 400, loss: 0.0992339476943016\n",
            "epoch: 5, step: 0, loss: 0.03642643988132477\n",
            "epoch: 5, step: 200, loss: 0.018583180382847786\n",
            "epoch: 5, step: 400, loss: 0.042029984295368195\n",
            "epoch: 6, step: 0, loss: 0.03233757242560387\n",
            "epoch: 6, step: 200, loss: 0.051398344337940216\n",
            "epoch: 6, step: 400, loss: 0.04147714748978615\n",
            "epoch: 7, step: 0, loss: 0.006996698211878538\n",
            "epoch: 7, step: 200, loss: 0.01352000329643488\n",
            "epoch: 7, step: 400, loss: 0.04414563626050949\n",
            "epoch: 8, step: 0, loss: 0.004523443058133125\n",
            "epoch: 8, step: 200, loss: 0.005162951536476612\n",
            "epoch: 8, step: 400, loss: 0.03265714272856712\n",
            "epoch: 9, step: 0, loss: 0.007983715273439884\n",
            "epoch: 9, step: 200, loss: 0.06361857056617737\n",
            "epoch: 9, step: 400, loss: 0.005331901833415031\n"
          ]
        }
      ],
      "source": [
        "for epoch in range(n_epochs):\n",
        "  dataloader = DataLoader(dataset, \n",
        "                          batch_size, \n",
        "                          shuffle=True, \n",
        "                          collate_fn=collate_fn,\n",
        "                          drop_last = True,\n",
        "                          )\n",
        "  for i, batch in enumerate(dataloader):\n",
        "    optim.zero_grad()\n",
        "\n",
        "    predict = model(batch['data'].to(device))\n",
        "    loss = loss_func(predict, batch['target'].to(device).long())\n",
        "    loss.backward()\n",
        "    optim.step()\n",
        "    if i % 200 == 0:\n",
        "      print(f'epoch: {epoch}, step: {i}, loss: {loss.item()}')\n",
        "  torch.save(model.state_dict(), f'./chkpt_{epoch}.pth')"
      ]
    },
    {
      "cell_type": "markdown",
      "metadata": {
        "id": "w7Aw3PAic5X4"
      },
      "source": [
        "Обучить глубокую сверточную сеть на MNIST\n"
      ]
    },
    {
      "cell_type": "code",
      "execution_count": 11,
      "metadata": {
        "id": "lfDBdK6Mc5X5"
      },
      "outputs": [],
      "source": [
        "class ConvModel(nn.Module):\n",
        "  def __init__(self, input_ch, hidden_ch, output_dim, dropout_p=0.1):\n",
        "    super().__init__()\n",
        "    self.conv1 = nn.Conv2d(input_ch, hidden_ch, \n",
        "                           kernel_size=5, padding=2, stride=2) # уменьшаем картинку в 2 раза\n",
        "    self.bn1 = nn.BatchNorm2d(hidden_ch)\n",
        "    self.conv2 = nn.Conv2d(hidden_ch, hidden_ch, kernel_size=3, padding=1)\n",
        "    self.bn2 = nn.BatchNorm2d(hidden_ch)\n",
        "    self.conv3 = nn.Conv2d(hidden_ch, 2, kernel_size=3, padding=1)\n",
        "    self.bn3 = nn.BatchNorm2d(2)\n",
        "    self.linear3 = nn.Linear(2 * 14 * 14, output_dim)\n",
        "    self.do1 = nn.Dropout(dropout_p)\n",
        "    self.do2 = nn.Dropout(dropout_p)\n",
        "    self.activation = nn.ReLU()\n",
        "\n",
        "  def forward(self, x):\n",
        "    x = self.do1(self.activation(self.bn1(self.conv1(x))))\n",
        "    x = self.do2(self.activation(self.bn2(self.conv2(x))))\n",
        "    x = self.activation(self.bn3(self.conv3(x))) # B x 2 x 14 x 14\n",
        "\n",
        "    return self.linear3(x.view(x.size(0), -1))\n",
        "    # x.size() -> (B, W, H); x.size(0) -> B\n",
        "    # x.view(B, -1) -> (B, вектор размера всего остального)"
      ]
    },
    {
      "cell_type": "code",
      "execution_count": 16,
      "metadata": {
        "id": "IGIVJP8Cc5X7"
      },
      "outputs": [],
      "source": [
        "# hyperparams\n",
        "input_ch = 1\n",
        "hidden_ch = 128\n",
        "out_dim = 10\n",
        "device_id = 0\n",
        "device = 'cpu' if device_id == -1 else f'cuda:{device_id}'\n",
        "n_epochs = 10\n",
        "batch_size = 128"
      ]
    },
    {
      "cell_type": "code",
      "execution_count": 17,
      "metadata": {
        "id": "jZ_qM9KQc5X8"
      },
      "outputs": [],
      "source": [
        "def collate_fn_conv(data: list):\n",
        "  # data = [(pic, target)...]\n",
        "  pics = []\n",
        "  target = []\n",
        "  for item in data:\n",
        "    pics.append(numpy.array(item[0]))\n",
        "    target.append(item[1])\n",
        "  pics = torch.from_numpy(numpy.array(pics)).float() / 255 # B x W x H\n",
        "  target = torch.from_numpy(numpy.array(target))\n",
        "\n",
        "  return {\n",
        "      'data': pics.unsqueeze(1), # B x 1 x W x H\n",
        "      'target': target.long(),\n",
        "      }"
      ]
    },
    {
      "cell_type": "code",
      "execution_count": 18,
      "metadata": {
        "id": "GeCVVogWc5X8"
      },
      "outputs": [],
      "source": [
        "model_conv = ConvModel(input_ch, hidden_ch, out_dim).to(device)\n",
        "optim = torch.optim.Adam(model_conv.parameters())\n",
        "loss_func = nn.CrossEntropyLoss()"
      ]
    },
    {
      "cell_type": "code",
      "execution_count": 19,
      "metadata": {
        "id": "9BzXYYWHc5X9",
        "outputId": "28a3a75a-feb5-49f5-8c91-d30aecbee062",
        "colab": {
          "base_uri": "https://localhost:8080/"
        }
      },
      "outputs": [
        {
          "output_type": "stream",
          "name": "stdout",
          "text": [
            "epoch: 0, step: 0, loss: 2.3839478492736816\n",
            "epoch: 0, step: 200, loss: 0.23991021513938904\n",
            "epoch: 0, step: 400, loss: 0.0788557380437851\n",
            "epoch: 1, step: 0, loss: 0.050048645585775375\n",
            "epoch: 1, step: 200, loss: 0.05390132963657379\n",
            "epoch: 1, step: 400, loss: 0.04379330202937126\n",
            "epoch: 2, step: 0, loss: 0.01650567166507244\n",
            "epoch: 2, step: 200, loss: 0.0698031634092331\n",
            "epoch: 2, step: 400, loss: 0.02215498685836792\n",
            "epoch: 3, step: 0, loss: 0.042865339666604996\n",
            "epoch: 3, step: 200, loss: 0.05103715881705284\n",
            "epoch: 3, step: 400, loss: 0.017411179840564728\n",
            "epoch: 4, step: 0, loss: 0.0862845852971077\n",
            "epoch: 4, step: 200, loss: 0.046976275742053986\n",
            "epoch: 4, step: 400, loss: 0.09513327479362488\n",
            "epoch: 5, step: 0, loss: 0.038290832191705704\n",
            "epoch: 5, step: 200, loss: 0.023012474179267883\n",
            "epoch: 5, step: 400, loss: 0.0323031023144722\n",
            "epoch: 6, step: 0, loss: 0.02410324662923813\n",
            "epoch: 6, step: 200, loss: 0.009010766632854939\n",
            "epoch: 6, step: 400, loss: 0.027008259668946266\n",
            "epoch: 7, step: 0, loss: 0.012900021858513355\n",
            "epoch: 7, step: 200, loss: 0.01713419519364834\n",
            "epoch: 7, step: 400, loss: 0.014513568952679634\n",
            "epoch: 8, step: 0, loss: 0.05745856836438179\n",
            "epoch: 8, step: 200, loss: 0.020509036257863045\n",
            "epoch: 8, step: 400, loss: 0.009496853686869144\n",
            "epoch: 9, step: 0, loss: 0.00848374143242836\n",
            "epoch: 9, step: 200, loss: 0.0023418953642249107\n",
            "epoch: 9, step: 400, loss: 0.0424097403883934\n"
          ]
        }
      ],
      "source": [
        "for epoch in range(n_epochs):\n",
        "  dataloader = DataLoader(dataset, \n",
        "                          batch_size, \n",
        "                          shuffle=True, \n",
        "                          collate_fn=collate_fn_conv,\n",
        "                          drop_last = True,\n",
        "                          )\n",
        "  for i, batch in enumerate(dataloader):\n",
        "    optim.zero_grad()\n",
        "\n",
        "    predict = model_conv(batch['data'].to(device))\n",
        "    loss = loss_func(predict, batch['target'].to(device))\n",
        "    loss.backward()\n",
        "    optim.step()\n",
        "    if i % 200 == 0:\n",
        "      print(f'epoch: {epoch}, step: {i}, loss: {loss.item()}')\n",
        "  torch.save(model_conv.state_dict(), f'./chkpt_conv_{epoch}.pth')"
      ]
    }
  ],
  "metadata": {
    "kernelspec": {
      "display_name": "Python 3.9.12 ('base')",
      "language": "python",
      "name": "python3"
    },
    "language_info": {
      "codemirror_mode": {
        "name": "ipython",
        "version": 3
      },
      "file_extension": ".py",
      "mimetype": "text/x-python",
      "name": "python",
      "nbconvert_exporter": "python",
      "pygments_lexer": "ipython3",
      "version": "3.9.12"
    },
    "orig_nbformat": 4,
    "vscode": {
      "interpreter": {
        "hash": "ad2bdc8ecc057115af97d19610ffacc2b4e99fae6737bb82f5d7fb13d2f2c186"
      }
    },
    "colab": {
      "provenance": [],
      "collapsed_sections": []
    },
    "widgets": {
      "application/vnd.jupyter.widget-state+json": {
        "5aafa063d8a5450e9de6cdad5c071627": {
          "model_module": "@jupyter-widgets/controls",
          "model_name": "HBoxModel",
          "model_module_version": "1.5.0",
          "state": {
            "_dom_classes": [],
            "_model_module": "@jupyter-widgets/controls",
            "_model_module_version": "1.5.0",
            "_model_name": "HBoxModel",
            "_view_count": null,
            "_view_module": "@jupyter-widgets/controls",
            "_view_module_version": "1.5.0",
            "_view_name": "HBoxView",
            "box_style": "",
            "children": [
              "IPY_MODEL_f11145e07eb6447d90fa87a74792c239",
              "IPY_MODEL_5e2953d33deb42da861008d6e6c14384",
              "IPY_MODEL_83aca50317fb4b41b4de3632f0613ebd"
            ],
            "layout": "IPY_MODEL_faae704ac26b419f95d129a8ececc3bf"
          }
        },
        "f11145e07eb6447d90fa87a74792c239": {
          "model_module": "@jupyter-widgets/controls",
          "model_name": "HTMLModel",
          "model_module_version": "1.5.0",
          "state": {
            "_dom_classes": [],
            "_model_module": "@jupyter-widgets/controls",
            "_model_module_version": "1.5.0",
            "_model_name": "HTMLModel",
            "_view_count": null,
            "_view_module": "@jupyter-widgets/controls",
            "_view_module_version": "1.5.0",
            "_view_name": "HTMLView",
            "description": "",
            "description_tooltip": null,
            "layout": "IPY_MODEL_d1d9a0d2fef9437fa2f53b29d95779b8",
            "placeholder": "​",
            "style": "IPY_MODEL_4e67722f37e546569efac2aa0f1ec37b",
            "value": "100%"
          }
        },
        "5e2953d33deb42da861008d6e6c14384": {
          "model_module": "@jupyter-widgets/controls",
          "model_name": "FloatProgressModel",
          "model_module_version": "1.5.0",
          "state": {
            "_dom_classes": [],
            "_model_module": "@jupyter-widgets/controls",
            "_model_module_version": "1.5.0",
            "_model_name": "FloatProgressModel",
            "_view_count": null,
            "_view_module": "@jupyter-widgets/controls",
            "_view_module_version": "1.5.0",
            "_view_name": "ProgressView",
            "bar_style": "success",
            "description": "",
            "description_tooltip": null,
            "layout": "IPY_MODEL_9a1d9cff7ca54d5aae62b27c84248d99",
            "max": 9912422,
            "min": 0,
            "orientation": "horizontal",
            "style": "IPY_MODEL_50f7e168b70b478abf0275b3ce0e5845",
            "value": 9912422
          }
        },
        "83aca50317fb4b41b4de3632f0613ebd": {
          "model_module": "@jupyter-widgets/controls",
          "model_name": "HTMLModel",
          "model_module_version": "1.5.0",
          "state": {
            "_dom_classes": [],
            "_model_module": "@jupyter-widgets/controls",
            "_model_module_version": "1.5.0",
            "_model_name": "HTMLModel",
            "_view_count": null,
            "_view_module": "@jupyter-widgets/controls",
            "_view_module_version": "1.5.0",
            "_view_name": "HTMLView",
            "description": "",
            "description_tooltip": null,
            "layout": "IPY_MODEL_f08cc2e1eb02462dbef45a5679e2ffb5",
            "placeholder": "​",
            "style": "IPY_MODEL_af1544b3e86f4a6683bc8527d0e268f0",
            "value": " 9912422/9912422 [00:00&lt;00:00, 40297184.50it/s]"
          }
        },
        "faae704ac26b419f95d129a8ececc3bf": {
          "model_module": "@jupyter-widgets/base",
          "model_name": "LayoutModel",
          "model_module_version": "1.2.0",
          "state": {
            "_model_module": "@jupyter-widgets/base",
            "_model_module_version": "1.2.0",
            "_model_name": "LayoutModel",
            "_view_count": null,
            "_view_module": "@jupyter-widgets/base",
            "_view_module_version": "1.2.0",
            "_view_name": "LayoutView",
            "align_content": null,
            "align_items": null,
            "align_self": null,
            "border": null,
            "bottom": null,
            "display": null,
            "flex": null,
            "flex_flow": null,
            "grid_area": null,
            "grid_auto_columns": null,
            "grid_auto_flow": null,
            "grid_auto_rows": null,
            "grid_column": null,
            "grid_gap": null,
            "grid_row": null,
            "grid_template_areas": null,
            "grid_template_columns": null,
            "grid_template_rows": null,
            "height": null,
            "justify_content": null,
            "justify_items": null,
            "left": null,
            "margin": null,
            "max_height": null,
            "max_width": null,
            "min_height": null,
            "min_width": null,
            "object_fit": null,
            "object_position": null,
            "order": null,
            "overflow": null,
            "overflow_x": null,
            "overflow_y": null,
            "padding": null,
            "right": null,
            "top": null,
            "visibility": null,
            "width": null
          }
        },
        "d1d9a0d2fef9437fa2f53b29d95779b8": {
          "model_module": "@jupyter-widgets/base",
          "model_name": "LayoutModel",
          "model_module_version": "1.2.0",
          "state": {
            "_model_module": "@jupyter-widgets/base",
            "_model_module_version": "1.2.0",
            "_model_name": "LayoutModel",
            "_view_count": null,
            "_view_module": "@jupyter-widgets/base",
            "_view_module_version": "1.2.0",
            "_view_name": "LayoutView",
            "align_content": null,
            "align_items": null,
            "align_self": null,
            "border": null,
            "bottom": null,
            "display": null,
            "flex": null,
            "flex_flow": null,
            "grid_area": null,
            "grid_auto_columns": null,
            "grid_auto_flow": null,
            "grid_auto_rows": null,
            "grid_column": null,
            "grid_gap": null,
            "grid_row": null,
            "grid_template_areas": null,
            "grid_template_columns": null,
            "grid_template_rows": null,
            "height": null,
            "justify_content": null,
            "justify_items": null,
            "left": null,
            "margin": null,
            "max_height": null,
            "max_width": null,
            "min_height": null,
            "min_width": null,
            "object_fit": null,
            "object_position": null,
            "order": null,
            "overflow": null,
            "overflow_x": null,
            "overflow_y": null,
            "padding": null,
            "right": null,
            "top": null,
            "visibility": null,
            "width": null
          }
        },
        "4e67722f37e546569efac2aa0f1ec37b": {
          "model_module": "@jupyter-widgets/controls",
          "model_name": "DescriptionStyleModel",
          "model_module_version": "1.5.0",
          "state": {
            "_model_module": "@jupyter-widgets/controls",
            "_model_module_version": "1.5.0",
            "_model_name": "DescriptionStyleModel",
            "_view_count": null,
            "_view_module": "@jupyter-widgets/base",
            "_view_module_version": "1.2.0",
            "_view_name": "StyleView",
            "description_width": ""
          }
        },
        "9a1d9cff7ca54d5aae62b27c84248d99": {
          "model_module": "@jupyter-widgets/base",
          "model_name": "LayoutModel",
          "model_module_version": "1.2.0",
          "state": {
            "_model_module": "@jupyter-widgets/base",
            "_model_module_version": "1.2.0",
            "_model_name": "LayoutModel",
            "_view_count": null,
            "_view_module": "@jupyter-widgets/base",
            "_view_module_version": "1.2.0",
            "_view_name": "LayoutView",
            "align_content": null,
            "align_items": null,
            "align_self": null,
            "border": null,
            "bottom": null,
            "display": null,
            "flex": null,
            "flex_flow": null,
            "grid_area": null,
            "grid_auto_columns": null,
            "grid_auto_flow": null,
            "grid_auto_rows": null,
            "grid_column": null,
            "grid_gap": null,
            "grid_row": null,
            "grid_template_areas": null,
            "grid_template_columns": null,
            "grid_template_rows": null,
            "height": null,
            "justify_content": null,
            "justify_items": null,
            "left": null,
            "margin": null,
            "max_height": null,
            "max_width": null,
            "min_height": null,
            "min_width": null,
            "object_fit": null,
            "object_position": null,
            "order": null,
            "overflow": null,
            "overflow_x": null,
            "overflow_y": null,
            "padding": null,
            "right": null,
            "top": null,
            "visibility": null,
            "width": null
          }
        },
        "50f7e168b70b478abf0275b3ce0e5845": {
          "model_module": "@jupyter-widgets/controls",
          "model_name": "ProgressStyleModel",
          "model_module_version": "1.5.0",
          "state": {
            "_model_module": "@jupyter-widgets/controls",
            "_model_module_version": "1.5.0",
            "_model_name": "ProgressStyleModel",
            "_view_count": null,
            "_view_module": "@jupyter-widgets/base",
            "_view_module_version": "1.2.0",
            "_view_name": "StyleView",
            "bar_color": null,
            "description_width": ""
          }
        },
        "f08cc2e1eb02462dbef45a5679e2ffb5": {
          "model_module": "@jupyter-widgets/base",
          "model_name": "LayoutModel",
          "model_module_version": "1.2.0",
          "state": {
            "_model_module": "@jupyter-widgets/base",
            "_model_module_version": "1.2.0",
            "_model_name": "LayoutModel",
            "_view_count": null,
            "_view_module": "@jupyter-widgets/base",
            "_view_module_version": "1.2.0",
            "_view_name": "LayoutView",
            "align_content": null,
            "align_items": null,
            "align_self": null,
            "border": null,
            "bottom": null,
            "display": null,
            "flex": null,
            "flex_flow": null,
            "grid_area": null,
            "grid_auto_columns": null,
            "grid_auto_flow": null,
            "grid_auto_rows": null,
            "grid_column": null,
            "grid_gap": null,
            "grid_row": null,
            "grid_template_areas": null,
            "grid_template_columns": null,
            "grid_template_rows": null,
            "height": null,
            "justify_content": null,
            "justify_items": null,
            "left": null,
            "margin": null,
            "max_height": null,
            "max_width": null,
            "min_height": null,
            "min_width": null,
            "object_fit": null,
            "object_position": null,
            "order": null,
            "overflow": null,
            "overflow_x": null,
            "overflow_y": null,
            "padding": null,
            "right": null,
            "top": null,
            "visibility": null,
            "width": null
          }
        },
        "af1544b3e86f4a6683bc8527d0e268f0": {
          "model_module": "@jupyter-widgets/controls",
          "model_name": "DescriptionStyleModel",
          "model_module_version": "1.5.0",
          "state": {
            "_model_module": "@jupyter-widgets/controls",
            "_model_module_version": "1.5.0",
            "_model_name": "DescriptionStyleModel",
            "_view_count": null,
            "_view_module": "@jupyter-widgets/base",
            "_view_module_version": "1.2.0",
            "_view_name": "StyleView",
            "description_width": ""
          }
        },
        "71b56c4caa1f49c9a8fe6abe5e88c82f": {
          "model_module": "@jupyter-widgets/controls",
          "model_name": "HBoxModel",
          "model_module_version": "1.5.0",
          "state": {
            "_dom_classes": [],
            "_model_module": "@jupyter-widgets/controls",
            "_model_module_version": "1.5.0",
            "_model_name": "HBoxModel",
            "_view_count": null,
            "_view_module": "@jupyter-widgets/controls",
            "_view_module_version": "1.5.0",
            "_view_name": "HBoxView",
            "box_style": "",
            "children": [
              "IPY_MODEL_9cdd957c8d8645049800b3403827da3e",
              "IPY_MODEL_0a029bcb7a7c4932a7d0c1cc013d2859",
              "IPY_MODEL_bfec9974fd3b49aaafa3d244a4d50ce7"
            ],
            "layout": "IPY_MODEL_e1a6dcf7fae942f7a55bc97fa172a32b"
          }
        },
        "9cdd957c8d8645049800b3403827da3e": {
          "model_module": "@jupyter-widgets/controls",
          "model_name": "HTMLModel",
          "model_module_version": "1.5.0",
          "state": {
            "_dom_classes": [],
            "_model_module": "@jupyter-widgets/controls",
            "_model_module_version": "1.5.0",
            "_model_name": "HTMLModel",
            "_view_count": null,
            "_view_module": "@jupyter-widgets/controls",
            "_view_module_version": "1.5.0",
            "_view_name": "HTMLView",
            "description": "",
            "description_tooltip": null,
            "layout": "IPY_MODEL_f25f8b5b878144c99e99cb2c566f8536",
            "placeholder": "​",
            "style": "IPY_MODEL_9545f7bd6bcd4e54b190b86cc4618b55",
            "value": "100%"
          }
        },
        "0a029bcb7a7c4932a7d0c1cc013d2859": {
          "model_module": "@jupyter-widgets/controls",
          "model_name": "FloatProgressModel",
          "model_module_version": "1.5.0",
          "state": {
            "_dom_classes": [],
            "_model_module": "@jupyter-widgets/controls",
            "_model_module_version": "1.5.0",
            "_model_name": "FloatProgressModel",
            "_view_count": null,
            "_view_module": "@jupyter-widgets/controls",
            "_view_module_version": "1.5.0",
            "_view_name": "ProgressView",
            "bar_style": "success",
            "description": "",
            "description_tooltip": null,
            "layout": "IPY_MODEL_b575fd07bc6349438c412ff6f8c6af45",
            "max": 28881,
            "min": 0,
            "orientation": "horizontal",
            "style": "IPY_MODEL_80f0833c5a90451b9abc8d86eb8c7a6b",
            "value": 28881
          }
        },
        "bfec9974fd3b49aaafa3d244a4d50ce7": {
          "model_module": "@jupyter-widgets/controls",
          "model_name": "HTMLModel",
          "model_module_version": "1.5.0",
          "state": {
            "_dom_classes": [],
            "_model_module": "@jupyter-widgets/controls",
            "_model_module_version": "1.5.0",
            "_model_name": "HTMLModel",
            "_view_count": null,
            "_view_module": "@jupyter-widgets/controls",
            "_view_module_version": "1.5.0",
            "_view_name": "HTMLView",
            "description": "",
            "description_tooltip": null,
            "layout": "IPY_MODEL_9100643b6d6c438faca19fbe2a38db38",
            "placeholder": "​",
            "style": "IPY_MODEL_5e84c194dc984690bd4c8d726d1e59e7",
            "value": " 28881/28881 [00:00&lt;00:00, 942367.55it/s]"
          }
        },
        "e1a6dcf7fae942f7a55bc97fa172a32b": {
          "model_module": "@jupyter-widgets/base",
          "model_name": "LayoutModel",
          "model_module_version": "1.2.0",
          "state": {
            "_model_module": "@jupyter-widgets/base",
            "_model_module_version": "1.2.0",
            "_model_name": "LayoutModel",
            "_view_count": null,
            "_view_module": "@jupyter-widgets/base",
            "_view_module_version": "1.2.0",
            "_view_name": "LayoutView",
            "align_content": null,
            "align_items": null,
            "align_self": null,
            "border": null,
            "bottom": null,
            "display": null,
            "flex": null,
            "flex_flow": null,
            "grid_area": null,
            "grid_auto_columns": null,
            "grid_auto_flow": null,
            "grid_auto_rows": null,
            "grid_column": null,
            "grid_gap": null,
            "grid_row": null,
            "grid_template_areas": null,
            "grid_template_columns": null,
            "grid_template_rows": null,
            "height": null,
            "justify_content": null,
            "justify_items": null,
            "left": null,
            "margin": null,
            "max_height": null,
            "max_width": null,
            "min_height": null,
            "min_width": null,
            "object_fit": null,
            "object_position": null,
            "order": null,
            "overflow": null,
            "overflow_x": null,
            "overflow_y": null,
            "padding": null,
            "right": null,
            "top": null,
            "visibility": null,
            "width": null
          }
        },
        "f25f8b5b878144c99e99cb2c566f8536": {
          "model_module": "@jupyter-widgets/base",
          "model_name": "LayoutModel",
          "model_module_version": "1.2.0",
          "state": {
            "_model_module": "@jupyter-widgets/base",
            "_model_module_version": "1.2.0",
            "_model_name": "LayoutModel",
            "_view_count": null,
            "_view_module": "@jupyter-widgets/base",
            "_view_module_version": "1.2.0",
            "_view_name": "LayoutView",
            "align_content": null,
            "align_items": null,
            "align_self": null,
            "border": null,
            "bottom": null,
            "display": null,
            "flex": null,
            "flex_flow": null,
            "grid_area": null,
            "grid_auto_columns": null,
            "grid_auto_flow": null,
            "grid_auto_rows": null,
            "grid_column": null,
            "grid_gap": null,
            "grid_row": null,
            "grid_template_areas": null,
            "grid_template_columns": null,
            "grid_template_rows": null,
            "height": null,
            "justify_content": null,
            "justify_items": null,
            "left": null,
            "margin": null,
            "max_height": null,
            "max_width": null,
            "min_height": null,
            "min_width": null,
            "object_fit": null,
            "object_position": null,
            "order": null,
            "overflow": null,
            "overflow_x": null,
            "overflow_y": null,
            "padding": null,
            "right": null,
            "top": null,
            "visibility": null,
            "width": null
          }
        },
        "9545f7bd6bcd4e54b190b86cc4618b55": {
          "model_module": "@jupyter-widgets/controls",
          "model_name": "DescriptionStyleModel",
          "model_module_version": "1.5.0",
          "state": {
            "_model_module": "@jupyter-widgets/controls",
            "_model_module_version": "1.5.0",
            "_model_name": "DescriptionStyleModel",
            "_view_count": null,
            "_view_module": "@jupyter-widgets/base",
            "_view_module_version": "1.2.0",
            "_view_name": "StyleView",
            "description_width": ""
          }
        },
        "b575fd07bc6349438c412ff6f8c6af45": {
          "model_module": "@jupyter-widgets/base",
          "model_name": "LayoutModel",
          "model_module_version": "1.2.0",
          "state": {
            "_model_module": "@jupyter-widgets/base",
            "_model_module_version": "1.2.0",
            "_model_name": "LayoutModel",
            "_view_count": null,
            "_view_module": "@jupyter-widgets/base",
            "_view_module_version": "1.2.0",
            "_view_name": "LayoutView",
            "align_content": null,
            "align_items": null,
            "align_self": null,
            "border": null,
            "bottom": null,
            "display": null,
            "flex": null,
            "flex_flow": null,
            "grid_area": null,
            "grid_auto_columns": null,
            "grid_auto_flow": null,
            "grid_auto_rows": null,
            "grid_column": null,
            "grid_gap": null,
            "grid_row": null,
            "grid_template_areas": null,
            "grid_template_columns": null,
            "grid_template_rows": null,
            "height": null,
            "justify_content": null,
            "justify_items": null,
            "left": null,
            "margin": null,
            "max_height": null,
            "max_width": null,
            "min_height": null,
            "min_width": null,
            "object_fit": null,
            "object_position": null,
            "order": null,
            "overflow": null,
            "overflow_x": null,
            "overflow_y": null,
            "padding": null,
            "right": null,
            "top": null,
            "visibility": null,
            "width": null
          }
        },
        "80f0833c5a90451b9abc8d86eb8c7a6b": {
          "model_module": "@jupyter-widgets/controls",
          "model_name": "ProgressStyleModel",
          "model_module_version": "1.5.0",
          "state": {
            "_model_module": "@jupyter-widgets/controls",
            "_model_module_version": "1.5.0",
            "_model_name": "ProgressStyleModel",
            "_view_count": null,
            "_view_module": "@jupyter-widgets/base",
            "_view_module_version": "1.2.0",
            "_view_name": "StyleView",
            "bar_color": null,
            "description_width": ""
          }
        },
        "9100643b6d6c438faca19fbe2a38db38": {
          "model_module": "@jupyter-widgets/base",
          "model_name": "LayoutModel",
          "model_module_version": "1.2.0",
          "state": {
            "_model_module": "@jupyter-widgets/base",
            "_model_module_version": "1.2.0",
            "_model_name": "LayoutModel",
            "_view_count": null,
            "_view_module": "@jupyter-widgets/base",
            "_view_module_version": "1.2.0",
            "_view_name": "LayoutView",
            "align_content": null,
            "align_items": null,
            "align_self": null,
            "border": null,
            "bottom": null,
            "display": null,
            "flex": null,
            "flex_flow": null,
            "grid_area": null,
            "grid_auto_columns": null,
            "grid_auto_flow": null,
            "grid_auto_rows": null,
            "grid_column": null,
            "grid_gap": null,
            "grid_row": null,
            "grid_template_areas": null,
            "grid_template_columns": null,
            "grid_template_rows": null,
            "height": null,
            "justify_content": null,
            "justify_items": null,
            "left": null,
            "margin": null,
            "max_height": null,
            "max_width": null,
            "min_height": null,
            "min_width": null,
            "object_fit": null,
            "object_position": null,
            "order": null,
            "overflow": null,
            "overflow_x": null,
            "overflow_y": null,
            "padding": null,
            "right": null,
            "top": null,
            "visibility": null,
            "width": null
          }
        },
        "5e84c194dc984690bd4c8d726d1e59e7": {
          "model_module": "@jupyter-widgets/controls",
          "model_name": "DescriptionStyleModel",
          "model_module_version": "1.5.0",
          "state": {
            "_model_module": "@jupyter-widgets/controls",
            "_model_module_version": "1.5.0",
            "_model_name": "DescriptionStyleModel",
            "_view_count": null,
            "_view_module": "@jupyter-widgets/base",
            "_view_module_version": "1.2.0",
            "_view_name": "StyleView",
            "description_width": ""
          }
        },
        "603aade1010d4cb8bc4ac003e08c9d97": {
          "model_module": "@jupyter-widgets/controls",
          "model_name": "HBoxModel",
          "model_module_version": "1.5.0",
          "state": {
            "_dom_classes": [],
            "_model_module": "@jupyter-widgets/controls",
            "_model_module_version": "1.5.0",
            "_model_name": "HBoxModel",
            "_view_count": null,
            "_view_module": "@jupyter-widgets/controls",
            "_view_module_version": "1.5.0",
            "_view_name": "HBoxView",
            "box_style": "",
            "children": [
              "IPY_MODEL_eb4abf8bcb344b979b9560ad0b2fc113",
              "IPY_MODEL_7f520f023cc346d48799413ea4aa9fa0",
              "IPY_MODEL_506e5d18cf3444a2b618ce1eb99e7ccd"
            ],
            "layout": "IPY_MODEL_86d74f8aef6446958bcacdc06c397d34"
          }
        },
        "eb4abf8bcb344b979b9560ad0b2fc113": {
          "model_module": "@jupyter-widgets/controls",
          "model_name": "HTMLModel",
          "model_module_version": "1.5.0",
          "state": {
            "_dom_classes": [],
            "_model_module": "@jupyter-widgets/controls",
            "_model_module_version": "1.5.0",
            "_model_name": "HTMLModel",
            "_view_count": null,
            "_view_module": "@jupyter-widgets/controls",
            "_view_module_version": "1.5.0",
            "_view_name": "HTMLView",
            "description": "",
            "description_tooltip": null,
            "layout": "IPY_MODEL_96885c89339144608f21cc06deaa835b",
            "placeholder": "​",
            "style": "IPY_MODEL_8ebac4b615a2483fab0f74714229bfa6",
            "value": "100%"
          }
        },
        "7f520f023cc346d48799413ea4aa9fa0": {
          "model_module": "@jupyter-widgets/controls",
          "model_name": "FloatProgressModel",
          "model_module_version": "1.5.0",
          "state": {
            "_dom_classes": [],
            "_model_module": "@jupyter-widgets/controls",
            "_model_module_version": "1.5.0",
            "_model_name": "FloatProgressModel",
            "_view_count": null,
            "_view_module": "@jupyter-widgets/controls",
            "_view_module_version": "1.5.0",
            "_view_name": "ProgressView",
            "bar_style": "success",
            "description": "",
            "description_tooltip": null,
            "layout": "IPY_MODEL_496b5fdb47ff47fc839fdfc50037b0a6",
            "max": 1648877,
            "min": 0,
            "orientation": "horizontal",
            "style": "IPY_MODEL_2a4c4d19e3e64063b961846a9145168b",
            "value": 1648877
          }
        },
        "506e5d18cf3444a2b618ce1eb99e7ccd": {
          "model_module": "@jupyter-widgets/controls",
          "model_name": "HTMLModel",
          "model_module_version": "1.5.0",
          "state": {
            "_dom_classes": [],
            "_model_module": "@jupyter-widgets/controls",
            "_model_module_version": "1.5.0",
            "_model_name": "HTMLModel",
            "_view_count": null,
            "_view_module": "@jupyter-widgets/controls",
            "_view_module_version": "1.5.0",
            "_view_name": "HTMLView",
            "description": "",
            "description_tooltip": null,
            "layout": "IPY_MODEL_da2160ea7e74473fa0d41c6d7c0757e8",
            "placeholder": "​",
            "style": "IPY_MODEL_0d63a131269546c5b968f8041c97638e",
            "value": " 1648877/1648877 [00:00&lt;00:00, 31022286.50it/s]"
          }
        },
        "86d74f8aef6446958bcacdc06c397d34": {
          "model_module": "@jupyter-widgets/base",
          "model_name": "LayoutModel",
          "model_module_version": "1.2.0",
          "state": {
            "_model_module": "@jupyter-widgets/base",
            "_model_module_version": "1.2.0",
            "_model_name": "LayoutModel",
            "_view_count": null,
            "_view_module": "@jupyter-widgets/base",
            "_view_module_version": "1.2.0",
            "_view_name": "LayoutView",
            "align_content": null,
            "align_items": null,
            "align_self": null,
            "border": null,
            "bottom": null,
            "display": null,
            "flex": null,
            "flex_flow": null,
            "grid_area": null,
            "grid_auto_columns": null,
            "grid_auto_flow": null,
            "grid_auto_rows": null,
            "grid_column": null,
            "grid_gap": null,
            "grid_row": null,
            "grid_template_areas": null,
            "grid_template_columns": null,
            "grid_template_rows": null,
            "height": null,
            "justify_content": null,
            "justify_items": null,
            "left": null,
            "margin": null,
            "max_height": null,
            "max_width": null,
            "min_height": null,
            "min_width": null,
            "object_fit": null,
            "object_position": null,
            "order": null,
            "overflow": null,
            "overflow_x": null,
            "overflow_y": null,
            "padding": null,
            "right": null,
            "top": null,
            "visibility": null,
            "width": null
          }
        },
        "96885c89339144608f21cc06deaa835b": {
          "model_module": "@jupyter-widgets/base",
          "model_name": "LayoutModel",
          "model_module_version": "1.2.0",
          "state": {
            "_model_module": "@jupyter-widgets/base",
            "_model_module_version": "1.2.0",
            "_model_name": "LayoutModel",
            "_view_count": null,
            "_view_module": "@jupyter-widgets/base",
            "_view_module_version": "1.2.0",
            "_view_name": "LayoutView",
            "align_content": null,
            "align_items": null,
            "align_self": null,
            "border": null,
            "bottom": null,
            "display": null,
            "flex": null,
            "flex_flow": null,
            "grid_area": null,
            "grid_auto_columns": null,
            "grid_auto_flow": null,
            "grid_auto_rows": null,
            "grid_column": null,
            "grid_gap": null,
            "grid_row": null,
            "grid_template_areas": null,
            "grid_template_columns": null,
            "grid_template_rows": null,
            "height": null,
            "justify_content": null,
            "justify_items": null,
            "left": null,
            "margin": null,
            "max_height": null,
            "max_width": null,
            "min_height": null,
            "min_width": null,
            "object_fit": null,
            "object_position": null,
            "order": null,
            "overflow": null,
            "overflow_x": null,
            "overflow_y": null,
            "padding": null,
            "right": null,
            "top": null,
            "visibility": null,
            "width": null
          }
        },
        "8ebac4b615a2483fab0f74714229bfa6": {
          "model_module": "@jupyter-widgets/controls",
          "model_name": "DescriptionStyleModel",
          "model_module_version": "1.5.0",
          "state": {
            "_model_module": "@jupyter-widgets/controls",
            "_model_module_version": "1.5.0",
            "_model_name": "DescriptionStyleModel",
            "_view_count": null,
            "_view_module": "@jupyter-widgets/base",
            "_view_module_version": "1.2.0",
            "_view_name": "StyleView",
            "description_width": ""
          }
        },
        "496b5fdb47ff47fc839fdfc50037b0a6": {
          "model_module": "@jupyter-widgets/base",
          "model_name": "LayoutModel",
          "model_module_version": "1.2.0",
          "state": {
            "_model_module": "@jupyter-widgets/base",
            "_model_module_version": "1.2.0",
            "_model_name": "LayoutModel",
            "_view_count": null,
            "_view_module": "@jupyter-widgets/base",
            "_view_module_version": "1.2.0",
            "_view_name": "LayoutView",
            "align_content": null,
            "align_items": null,
            "align_self": null,
            "border": null,
            "bottom": null,
            "display": null,
            "flex": null,
            "flex_flow": null,
            "grid_area": null,
            "grid_auto_columns": null,
            "grid_auto_flow": null,
            "grid_auto_rows": null,
            "grid_column": null,
            "grid_gap": null,
            "grid_row": null,
            "grid_template_areas": null,
            "grid_template_columns": null,
            "grid_template_rows": null,
            "height": null,
            "justify_content": null,
            "justify_items": null,
            "left": null,
            "margin": null,
            "max_height": null,
            "max_width": null,
            "min_height": null,
            "min_width": null,
            "object_fit": null,
            "object_position": null,
            "order": null,
            "overflow": null,
            "overflow_x": null,
            "overflow_y": null,
            "padding": null,
            "right": null,
            "top": null,
            "visibility": null,
            "width": null
          }
        },
        "2a4c4d19e3e64063b961846a9145168b": {
          "model_module": "@jupyter-widgets/controls",
          "model_name": "ProgressStyleModel",
          "model_module_version": "1.5.0",
          "state": {
            "_model_module": "@jupyter-widgets/controls",
            "_model_module_version": "1.5.0",
            "_model_name": "ProgressStyleModel",
            "_view_count": null,
            "_view_module": "@jupyter-widgets/base",
            "_view_module_version": "1.2.0",
            "_view_name": "StyleView",
            "bar_color": null,
            "description_width": ""
          }
        },
        "da2160ea7e74473fa0d41c6d7c0757e8": {
          "model_module": "@jupyter-widgets/base",
          "model_name": "LayoutModel",
          "model_module_version": "1.2.0",
          "state": {
            "_model_module": "@jupyter-widgets/base",
            "_model_module_version": "1.2.0",
            "_model_name": "LayoutModel",
            "_view_count": null,
            "_view_module": "@jupyter-widgets/base",
            "_view_module_version": "1.2.0",
            "_view_name": "LayoutView",
            "align_content": null,
            "align_items": null,
            "align_self": null,
            "border": null,
            "bottom": null,
            "display": null,
            "flex": null,
            "flex_flow": null,
            "grid_area": null,
            "grid_auto_columns": null,
            "grid_auto_flow": null,
            "grid_auto_rows": null,
            "grid_column": null,
            "grid_gap": null,
            "grid_row": null,
            "grid_template_areas": null,
            "grid_template_columns": null,
            "grid_template_rows": null,
            "height": null,
            "justify_content": null,
            "justify_items": null,
            "left": null,
            "margin": null,
            "max_height": null,
            "max_width": null,
            "min_height": null,
            "min_width": null,
            "object_fit": null,
            "object_position": null,
            "order": null,
            "overflow": null,
            "overflow_x": null,
            "overflow_y": null,
            "padding": null,
            "right": null,
            "top": null,
            "visibility": null,
            "width": null
          }
        },
        "0d63a131269546c5b968f8041c97638e": {
          "model_module": "@jupyter-widgets/controls",
          "model_name": "DescriptionStyleModel",
          "model_module_version": "1.5.0",
          "state": {
            "_model_module": "@jupyter-widgets/controls",
            "_model_module_version": "1.5.0",
            "_model_name": "DescriptionStyleModel",
            "_view_count": null,
            "_view_module": "@jupyter-widgets/base",
            "_view_module_version": "1.2.0",
            "_view_name": "StyleView",
            "description_width": ""
          }
        },
        "2ba4203b626b4b0d85465b429d42f477": {
          "model_module": "@jupyter-widgets/controls",
          "model_name": "HBoxModel",
          "model_module_version": "1.5.0",
          "state": {
            "_dom_classes": [],
            "_model_module": "@jupyter-widgets/controls",
            "_model_module_version": "1.5.0",
            "_model_name": "HBoxModel",
            "_view_count": null,
            "_view_module": "@jupyter-widgets/controls",
            "_view_module_version": "1.5.0",
            "_view_name": "HBoxView",
            "box_style": "",
            "children": [
              "IPY_MODEL_0e3797c063b843f2badf879b30399f53",
              "IPY_MODEL_017b8b8a38df4560abf8d6a1dc32b789",
              "IPY_MODEL_6b869801c6f745c38a3d94ca31dcd883"
            ],
            "layout": "IPY_MODEL_9e14f88b465f43978e8fd674d43c76a3"
          }
        },
        "0e3797c063b843f2badf879b30399f53": {
          "model_module": "@jupyter-widgets/controls",
          "model_name": "HTMLModel",
          "model_module_version": "1.5.0",
          "state": {
            "_dom_classes": [],
            "_model_module": "@jupyter-widgets/controls",
            "_model_module_version": "1.5.0",
            "_model_name": "HTMLModel",
            "_view_count": null,
            "_view_module": "@jupyter-widgets/controls",
            "_view_module_version": "1.5.0",
            "_view_name": "HTMLView",
            "description": "",
            "description_tooltip": null,
            "layout": "IPY_MODEL_38f3696f9c28494da3f9dcd0d1cc39ce",
            "placeholder": "​",
            "style": "IPY_MODEL_746e23ef668c4104b471ea96cd5914ff",
            "value": "100%"
          }
        },
        "017b8b8a38df4560abf8d6a1dc32b789": {
          "model_module": "@jupyter-widgets/controls",
          "model_name": "FloatProgressModel",
          "model_module_version": "1.5.0",
          "state": {
            "_dom_classes": [],
            "_model_module": "@jupyter-widgets/controls",
            "_model_module_version": "1.5.0",
            "_model_name": "FloatProgressModel",
            "_view_count": null,
            "_view_module": "@jupyter-widgets/controls",
            "_view_module_version": "1.5.0",
            "_view_name": "ProgressView",
            "bar_style": "success",
            "description": "",
            "description_tooltip": null,
            "layout": "IPY_MODEL_bcd8a838febe4026b06d9b733103120f",
            "max": 4542,
            "min": 0,
            "orientation": "horizontal",
            "style": "IPY_MODEL_df9aa39fc5ef437a89aab61f98f2d94f",
            "value": 4542
          }
        },
        "6b869801c6f745c38a3d94ca31dcd883": {
          "model_module": "@jupyter-widgets/controls",
          "model_name": "HTMLModel",
          "model_module_version": "1.5.0",
          "state": {
            "_dom_classes": [],
            "_model_module": "@jupyter-widgets/controls",
            "_model_module_version": "1.5.0",
            "_model_name": "HTMLModel",
            "_view_count": null,
            "_view_module": "@jupyter-widgets/controls",
            "_view_module_version": "1.5.0",
            "_view_name": "HTMLView",
            "description": "",
            "description_tooltip": null,
            "layout": "IPY_MODEL_e721235fad04455ab9a010904acabf34",
            "placeholder": "​",
            "style": "IPY_MODEL_7ea284977dd24148b442f97824c4d170",
            "value": " 4542/4542 [00:00&lt;00:00, 139946.73it/s]"
          }
        },
        "9e14f88b465f43978e8fd674d43c76a3": {
          "model_module": "@jupyter-widgets/base",
          "model_name": "LayoutModel",
          "model_module_version": "1.2.0",
          "state": {
            "_model_module": "@jupyter-widgets/base",
            "_model_module_version": "1.2.0",
            "_model_name": "LayoutModel",
            "_view_count": null,
            "_view_module": "@jupyter-widgets/base",
            "_view_module_version": "1.2.0",
            "_view_name": "LayoutView",
            "align_content": null,
            "align_items": null,
            "align_self": null,
            "border": null,
            "bottom": null,
            "display": null,
            "flex": null,
            "flex_flow": null,
            "grid_area": null,
            "grid_auto_columns": null,
            "grid_auto_flow": null,
            "grid_auto_rows": null,
            "grid_column": null,
            "grid_gap": null,
            "grid_row": null,
            "grid_template_areas": null,
            "grid_template_columns": null,
            "grid_template_rows": null,
            "height": null,
            "justify_content": null,
            "justify_items": null,
            "left": null,
            "margin": null,
            "max_height": null,
            "max_width": null,
            "min_height": null,
            "min_width": null,
            "object_fit": null,
            "object_position": null,
            "order": null,
            "overflow": null,
            "overflow_x": null,
            "overflow_y": null,
            "padding": null,
            "right": null,
            "top": null,
            "visibility": null,
            "width": null
          }
        },
        "38f3696f9c28494da3f9dcd0d1cc39ce": {
          "model_module": "@jupyter-widgets/base",
          "model_name": "LayoutModel",
          "model_module_version": "1.2.0",
          "state": {
            "_model_module": "@jupyter-widgets/base",
            "_model_module_version": "1.2.0",
            "_model_name": "LayoutModel",
            "_view_count": null,
            "_view_module": "@jupyter-widgets/base",
            "_view_module_version": "1.2.0",
            "_view_name": "LayoutView",
            "align_content": null,
            "align_items": null,
            "align_self": null,
            "border": null,
            "bottom": null,
            "display": null,
            "flex": null,
            "flex_flow": null,
            "grid_area": null,
            "grid_auto_columns": null,
            "grid_auto_flow": null,
            "grid_auto_rows": null,
            "grid_column": null,
            "grid_gap": null,
            "grid_row": null,
            "grid_template_areas": null,
            "grid_template_columns": null,
            "grid_template_rows": null,
            "height": null,
            "justify_content": null,
            "justify_items": null,
            "left": null,
            "margin": null,
            "max_height": null,
            "max_width": null,
            "min_height": null,
            "min_width": null,
            "object_fit": null,
            "object_position": null,
            "order": null,
            "overflow": null,
            "overflow_x": null,
            "overflow_y": null,
            "padding": null,
            "right": null,
            "top": null,
            "visibility": null,
            "width": null
          }
        },
        "746e23ef668c4104b471ea96cd5914ff": {
          "model_module": "@jupyter-widgets/controls",
          "model_name": "DescriptionStyleModel",
          "model_module_version": "1.5.0",
          "state": {
            "_model_module": "@jupyter-widgets/controls",
            "_model_module_version": "1.5.0",
            "_model_name": "DescriptionStyleModel",
            "_view_count": null,
            "_view_module": "@jupyter-widgets/base",
            "_view_module_version": "1.2.0",
            "_view_name": "StyleView",
            "description_width": ""
          }
        },
        "bcd8a838febe4026b06d9b733103120f": {
          "model_module": "@jupyter-widgets/base",
          "model_name": "LayoutModel",
          "model_module_version": "1.2.0",
          "state": {
            "_model_module": "@jupyter-widgets/base",
            "_model_module_version": "1.2.0",
            "_model_name": "LayoutModel",
            "_view_count": null,
            "_view_module": "@jupyter-widgets/base",
            "_view_module_version": "1.2.0",
            "_view_name": "LayoutView",
            "align_content": null,
            "align_items": null,
            "align_self": null,
            "border": null,
            "bottom": null,
            "display": null,
            "flex": null,
            "flex_flow": null,
            "grid_area": null,
            "grid_auto_columns": null,
            "grid_auto_flow": null,
            "grid_auto_rows": null,
            "grid_column": null,
            "grid_gap": null,
            "grid_row": null,
            "grid_template_areas": null,
            "grid_template_columns": null,
            "grid_template_rows": null,
            "height": null,
            "justify_content": null,
            "justify_items": null,
            "left": null,
            "margin": null,
            "max_height": null,
            "max_width": null,
            "min_height": null,
            "min_width": null,
            "object_fit": null,
            "object_position": null,
            "order": null,
            "overflow": null,
            "overflow_x": null,
            "overflow_y": null,
            "padding": null,
            "right": null,
            "top": null,
            "visibility": null,
            "width": null
          }
        },
        "df9aa39fc5ef437a89aab61f98f2d94f": {
          "model_module": "@jupyter-widgets/controls",
          "model_name": "ProgressStyleModel",
          "model_module_version": "1.5.0",
          "state": {
            "_model_module": "@jupyter-widgets/controls",
            "_model_module_version": "1.5.0",
            "_model_name": "ProgressStyleModel",
            "_view_count": null,
            "_view_module": "@jupyter-widgets/base",
            "_view_module_version": "1.2.0",
            "_view_name": "StyleView",
            "bar_color": null,
            "description_width": ""
          }
        },
        "e721235fad04455ab9a010904acabf34": {
          "model_module": "@jupyter-widgets/base",
          "model_name": "LayoutModel",
          "model_module_version": "1.2.0",
          "state": {
            "_model_module": "@jupyter-widgets/base",
            "_model_module_version": "1.2.0",
            "_model_name": "LayoutModel",
            "_view_count": null,
            "_view_module": "@jupyter-widgets/base",
            "_view_module_version": "1.2.0",
            "_view_name": "LayoutView",
            "align_content": null,
            "align_items": null,
            "align_self": null,
            "border": null,
            "bottom": null,
            "display": null,
            "flex": null,
            "flex_flow": null,
            "grid_area": null,
            "grid_auto_columns": null,
            "grid_auto_flow": null,
            "grid_auto_rows": null,
            "grid_column": null,
            "grid_gap": null,
            "grid_row": null,
            "grid_template_areas": null,
            "grid_template_columns": null,
            "grid_template_rows": null,
            "height": null,
            "justify_content": null,
            "justify_items": null,
            "left": null,
            "margin": null,
            "max_height": null,
            "max_width": null,
            "min_height": null,
            "min_width": null,
            "object_fit": null,
            "object_position": null,
            "order": null,
            "overflow": null,
            "overflow_x": null,
            "overflow_y": null,
            "padding": null,
            "right": null,
            "top": null,
            "visibility": null,
            "width": null
          }
        },
        "7ea284977dd24148b442f97824c4d170": {
          "model_module": "@jupyter-widgets/controls",
          "model_name": "DescriptionStyleModel",
          "model_module_version": "1.5.0",
          "state": {
            "_model_module": "@jupyter-widgets/controls",
            "_model_module_version": "1.5.0",
            "_model_name": "DescriptionStyleModel",
            "_view_count": null,
            "_view_module": "@jupyter-widgets/base",
            "_view_module_version": "1.2.0",
            "_view_name": "StyleView",
            "description_width": ""
          }
        }
      }
    },
    "accelerator": "GPU",
    "gpuClass": "standard"
  },
  "nbformat": 4,
  "nbformat_minor": 0
}