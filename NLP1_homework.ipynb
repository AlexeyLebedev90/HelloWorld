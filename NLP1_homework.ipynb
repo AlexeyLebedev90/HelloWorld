{
  "nbformat": 4,
  "nbformat_minor": 0,
  "metadata": {
    "colab": {
      "provenance": [],
      "toc_visible": true
    },
    "kernelspec": {
      "name": "python3",
      "display_name": "Python 3"
    },
    "language_info": {
      "name": "python"
    }
  },
  "cells": [
    {
      "cell_type": "markdown",
      "source": [
        "###ML1_1: \n",
        "https://www.hackerrank.com/challenges/capturing-non-capturing-groups/problem?isFullScreen=true\n",
        "\n",
        "###ML1_2: \n",
        "https://www.hackerrank.com/challenges/branch-reset-groups/problem?isFullScreen=true\n",
        "\n",
        "###ML1_3: \n",
        "https://www.hackerrank.com/challenges/detect-html-links/problem?isFullScreen=true\n",
        "\n",
        "###ML1_4: Реализовать stemming, lemmatization & BoW на следующем датасете: https://cloud.mail.ru/public/Z4L3/vB8GcgTtK (Russian Toxic-abuse comments)"
      ],
      "metadata": {
        "id": "dH7qx_irU4Y8"
      }
    },
    {
      "cell_type": "markdown",
      "source": [
        "# Новый раздел"
      ],
      "metadata": {
        "id": "8SMfNTrKM7kl"
      }
    },
    {
      "cell_type": "code",
      "source": [
        "#ML1_1\n",
        "Regex_Pattern = r'(ok){3}'\t# Do not delete 'r'.\n",
        "import re\n",
        "\n",
        "print(str(bool(re.search(Regex_Pattern, input()))).lower())"
      ],
      "metadata": {
        "id": "W9qJgU7ON8d9"
      },
      "execution_count": null,
      "outputs": []
    },
    {
      "cell_type": "code",
      "source": [
        "#ML1_2\n",
        "$Regex_Pattern = '^\\d{2}(-{1}|-{3}|.?|:?)\\d{2}\\1\\d{2}\\1\\d{2}$';\n",
        "\n",
        "$Test_String = <STDIN> ;\n",
        "if($Test_String =~ /$Regex_Pattern/){\n",
        "    print \"true\";\n",
        "} else {\n",
        "    print \"false\";\n",
        "}"
      ],
      "metadata": {
        "id": "Dc3tcyh4PF3O"
      },
      "execution_count": null,
      "outputs": []
    },
    {
      "cell_type": "code",
      "source": [
        "#ML1_3\n",
        "import re\n",
        "\n",
        "Regex_Pattern = ('<a href=\"(.*?)\".*?>(?:<.*?>)*(.*?)<')\n",
        "\n",
        "n = int(input())\n",
        "for _ in range(n):\n",
        "    line = input()\n",
        "    for match in re.findall(Regex_Pattern, line):\n",
        "        link = match[0]\n",
        "        text = match[1].lstrip()\n",
        "        match = (link, text)\n",
        "        print(','.join(match))"
      ],
      "metadata": {
        "id": "TJwNi0h4XjL1"
      },
      "execution_count": null,
      "outputs": []
    }
  ]
}