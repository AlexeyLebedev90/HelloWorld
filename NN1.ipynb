{
  "cells": [
    {
      "cell_type": "code",
      "execution_count": 1,
      "metadata": {
        "id": "YwwqM_prRJ5x"
      },
      "outputs": [],
      "source": [
        "import torch\n",
        "import torch.nn as nn"
      ]
    },
    {
      "cell_type": "markdown",
      "metadata": {
        "id": "EscDrlagRJ51"
      },
      "source": [
        "Написать на PyTorch forward и backward полносвязного слоя без использования autograd\n",
        "\n"
      ]
    },
    {
      "cell_type": "code",
      "execution_count": 2,
      "metadata": {
        "id": "L_M0c2FjRJ54"
      },
      "outputs": [],
      "source": [
        "class MyLayer(nn.Module):\n",
        "  def __init__(self, tensor):\n",
        "    super().__init__()\n",
        "    self.params = nn.Parameter(tensor, requires_grad=True)\n",
        "  def forward(self, x):\n",
        "    return x * self.params\n",
        "  def backward(self, grad):\n",
        "    return grad"
      ]
    },
    {
      "cell_type": "markdown",
      "metadata": {
        "id": "YgeEHvFeRJ55"
      },
      "source": [
        "Оптимизатор:"
      ]
    },
    {
      "cell_type": "code",
      "execution_count": 3,
      "metadata": {
        "id": "OuHhQvBcRJ56"
      },
      "outputs": [],
      "source": [
        "class SGDMomentum:\n",
        "    def __init__(self, model_weights, momentum: float=0.99, lr: float = 0.001):\n",
        "        self.momentum = momentum\n",
        "        self.lr = lr\n",
        "        self.velocity = torch.zeros_like(model_weights)\n",
        "        self.weights = model_weights\n",
        "\n",
        "    def step(self, grad):\n",
        "        self.velocity = self.momentum * self.velocity - self.lr * grad\n",
        "        self.weights = self.weights + self.velocity"
      ]
    },
    {
      "cell_type": "markdown",
      "metadata": {
        "id": "3B0iyS8aRJ57"
      },
      "source": [
        "Квадратное уравнение: 5х**2-3х+7"
      ]
    },
    {
      "cell_type": "code",
      "execution_count": 4,
      "metadata": {
        "id": "k5ltMDXvRJ58"
      },
      "outputs": [],
      "source": [
        "def func(x):\n",
        "    function = (5*x**2 - 3*x + 7)**2\n",
        "    return function"
      ]
    },
    {
      "cell_type": "code",
      "execution_count": 5,
      "metadata": {
        "id": "7PSQYr2gRJ59"
      },
      "outputs": [],
      "source": [
        "def grad(x):\n",
        "    gradient = 2 * (5 * x ** 2 - 3 * x + 7) * (10 * x - 3)\n",
        "    return gradient"
      ]
    },
    {
      "cell_type": "code",
      "execution_count": 6,
      "metadata": {
        "id": "Vs_1J5FERJ5-"
      },
      "outputs": [],
      "source": [
        "def ext(gradient, range, accuracy):\n",
        "  x = range[0]\n",
        "  while x < range[1]:\n",
        "    if gradient(x)*gradient(x+accuracy) < 0:\n",
        "      return x + accuracy/2\n",
        "    x += accuracy\n",
        "  return 'NA'"
      ]
    },
    {
      "cell_type": "code",
      "execution_count": 7,
      "metadata": {
        "id": "tP19is86RJ5-"
      },
      "outputs": [],
      "source": [
        "def result(init_x):\n",
        "    x = torch.tensor(init_x)\n",
        "    g = grad(x)\n",
        "    optim = SGDMomentum(x, 0.9, 0.001)\n",
        "    for i in range(100):\n",
        "        optim.step(g)\n",
        "        g = grad(optim.weights)\n",
        "    return optim.weights"
      ]
    },
    {
      "cell_type": "code",
      "execution_count": 8,
      "metadata": {
        "colab": {
          "base_uri": "https://localhost:8080/"
        },
        "id": "TAAfVmmgRJ5_",
        "outputId": "4b836f99-c767-4842-bf94-4d64a5a0c650"
      },
      "outputs": [
        {
          "output_type": "execute_result",
          "data": {
            "text/plain": [
              "tensor(0.2756)"
            ]
          },
          "metadata": {},
          "execution_count": 8
        }
      ],
      "source": [
        "result(3)\n"
      ]
    }
  ],
  "metadata": {
    "kernelspec": {
      "display_name": "Python 3.9.12 ('base')",
      "language": "python",
      "name": "python3"
    },
    "language_info": {
      "codemirror_mode": {
        "name": "ipython",
        "version": 3
      },
      "file_extension": ".py",
      "mimetype": "text/x-python",
      "name": "python",
      "nbconvert_exporter": "python",
      "pygments_lexer": "ipython3",
      "version": "3.9.12"
    },
    "orig_nbformat": 4,
    "vscode": {
      "interpreter": {
        "hash": "ad2bdc8ecc057115af97d19610ffacc2b4e99fae6737bb82f5d7fb13d2f2c186"
      }
    },
    "colab": {
      "provenance": []
    }
  },
  "nbformat": 4,
  "nbformat_minor": 0
}